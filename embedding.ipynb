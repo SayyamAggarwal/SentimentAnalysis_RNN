{
 "cells": [
  {
   "cell_type": "code",
   "execution_count": 2,
   "id": "1fe80883",
   "metadata": {},
   "outputs": [],
   "source": [
    "from tensorflow.keras.preprocessing.text import one_hot"
   ]
  },
  {
   "cell_type": "code",
   "execution_count": 3,
   "id": "45653fa4",
   "metadata": {},
   "outputs": [],
   "source": [
    "sent = [\n",
    "    'the food is good',\n",
    "    'the food is bad',\n",
    "    'the food is not bad'\n",
    "]\n"
   ]
  },
  {
   "cell_type": "code",
   "execution_count": 4,
   "metadata": {},
   "outputs": [
    {
     "data": {
      "text/plain": [
       "['the food is good', 'the food is bad', 'the food is not bad']"
      ]
     },
     "execution_count": 4,
     "metadata": {},
     "output_type": "execute_result"
    }
   ],
   "source": [
    "sent"
   ]
  },
  {
   "cell_type": "code",
   "execution_count": 5,
   "metadata": {},
   "outputs": [
    {
     "data": {
      "text/plain": [
       "[[63, 613, 981, 454], [63, 613, 981, 787], [63, 613, 981, 562, 787]]"
      ]
     },
     "execution_count": 5,
     "metadata": {},
     "output_type": "execute_result"
    }
   ],
   "source": [
    "#Define vocab size\n",
    "voc_size = 1000\n",
    "one_hot_repr =[one_hot(words,voc_size) for words in sent]\n",
    "one_hot_repr"
   ]
  },
  {
   "cell_type": "code",
   "execution_count": 6,
   "metadata": {},
   "outputs": [],
   "source": [
    "from tensorflow.keras.layers import Embedding\n",
    "from tensorflow.keras.utils import pad_sequences\n",
    "from tensorflow.keras.models import Sequential\n",
    "\n",
    "import pandas as pd\n",
    "import numpy as np\n",
    "import matplotlib.pyplot as plt"
   ]
  },
  {
   "cell_type": "code",
   "execution_count": 7,
   "metadata": {},
   "outputs": [
    {
     "data": {
      "text/plain": [
       "array([[  0,   0,   0,   0,  63, 613, 981, 454],\n",
       "       [  0,   0,   0,   0,  63, 613, 981, 787],\n",
       "       [  0,   0,   0,  63, 613, 981, 562, 787]])"
      ]
     },
     "execution_count": 7,
     "metadata": {},
     "output_type": "execute_result"
    }
   ],
   "source": [
    "sent_length = 8\n",
    "embedding_docs = pad_sequences(one_hot_repr,padding='pre',maxlen=sent_length)\n",
    "embedding_docs"
   ]
  },
  {
   "cell_type": "code",
   "execution_count": 8,
   "id": "da4893ad",
   "metadata": {},
   "outputs": [
    {
     "name": "stderr",
     "output_type": "stream",
     "text": [
      "c:\\Users\\SAYYAM AGGARWAL\\anaconda3\\Lib\\site-packages\\keras\\src\\layers\\core\\embedding.py:97: UserWarning: Argument `input_length` is deprecated. Just remove it.\n",
      "  warnings.warn(\n"
     ]
    }
   ],
   "source": [
    "##Feature representation\n",
    "dim = 10\n",
    "model = Sequential([\n",
    "    Embedding(voc_size,dim,input_length = sent_length)\n",
    "])\n",
    "model.compile('adam','mse')"
   ]
  },
  {
   "cell_type": "code",
   "execution_count": 9,
   "metadata": {},
   "outputs": [
    {
     "data": {
      "text/html": [
       "<pre style=\"white-space:pre;overflow-x:auto;line-height:normal;font-family:Menlo,'DejaVu Sans Mono',consolas,'Courier New',monospace\"><span style=\"font-weight: bold\">Model: \"sequential\"</span>\n",
       "</pre>\n"
      ],
      "text/plain": [
       "\u001b[1mModel: \"sequential\"\u001b[0m\n"
      ]
     },
     "metadata": {},
     "output_type": "display_data"
    },
    {
     "data": {
      "text/html": [
       "<pre style=\"white-space:pre;overflow-x:auto;line-height:normal;font-family:Menlo,'DejaVu Sans Mono',consolas,'Courier New',monospace\">┏━━━━━━━━━━━━━━━━━━━━━━━━━━━━━━━━━┳━━━━━━━━━━━━━━━━━━━━━━━━┳━━━━━━━━━━━━━━━┓\n",
       "┃<span style=\"font-weight: bold\"> Layer (type)                    </span>┃<span style=\"font-weight: bold\"> Output Shape           </span>┃<span style=\"font-weight: bold\">       Param # </span>┃\n",
       "┡━━━━━━━━━━━━━━━━━━━━━━━━━━━━━━━━━╇━━━━━━━━━━━━━━━━━━━━━━━━╇━━━━━━━━━━━━━━━┩\n",
       "│ embedding (<span style=\"color: #0087ff; text-decoration-color: #0087ff\">Embedding</span>)           │ ?                      │   <span style=\"color: #00af00; text-decoration-color: #00af00\">0</span> (unbuilt) │\n",
       "└─────────────────────────────────┴────────────────────────┴───────────────┘\n",
       "</pre>\n"
      ],
      "text/plain": [
       "┏━━━━━━━━━━━━━━━━━━━━━━━━━━━━━━━━━┳━━━━━━━━━━━━━━━━━━━━━━━━┳━━━━━━━━━━━━━━━┓\n",
       "┃\u001b[1m \u001b[0m\u001b[1mLayer (type)                   \u001b[0m\u001b[1m \u001b[0m┃\u001b[1m \u001b[0m\u001b[1mOutput Shape          \u001b[0m\u001b[1m \u001b[0m┃\u001b[1m \u001b[0m\u001b[1m      Param #\u001b[0m\u001b[1m \u001b[0m┃\n",
       "┡━━━━━━━━━━━━━━━━━━━━━━━━━━━━━━━━━╇━━━━━━━━━━━━━━━━━━━━━━━━╇━━━━━━━━━━━━━━━┩\n",
       "│ embedding (\u001b[38;5;33mEmbedding\u001b[0m)           │ ?                      │   \u001b[38;5;34m0\u001b[0m (unbuilt) │\n",
       "└─────────────────────────────────┴────────────────────────┴───────────────┘\n"
      ]
     },
     "metadata": {},
     "output_type": "display_data"
    },
    {
     "data": {
      "text/html": [
       "<pre style=\"white-space:pre;overflow-x:auto;line-height:normal;font-family:Menlo,'DejaVu Sans Mono',consolas,'Courier New',monospace\"><span style=\"font-weight: bold\"> Total params: </span><span style=\"color: #00af00; text-decoration-color: #00af00\">0</span> (0.00 B)\n",
       "</pre>\n"
      ],
      "text/plain": [
       "\u001b[1m Total params: \u001b[0m\u001b[38;5;34m0\u001b[0m (0.00 B)\n"
      ]
     },
     "metadata": {},
     "output_type": "display_data"
    },
    {
     "data": {
      "text/html": [
       "<pre style=\"white-space:pre;overflow-x:auto;line-height:normal;font-family:Menlo,'DejaVu Sans Mono',consolas,'Courier New',monospace\"><span style=\"font-weight: bold\"> Trainable params: </span><span style=\"color: #00af00; text-decoration-color: #00af00\">0</span> (0.00 B)\n",
       "</pre>\n"
      ],
      "text/plain": [
       "\u001b[1m Trainable params: \u001b[0m\u001b[38;5;34m0\u001b[0m (0.00 B)\n"
      ]
     },
     "metadata": {},
     "output_type": "display_data"
    },
    {
     "data": {
      "text/html": [
       "<pre style=\"white-space:pre;overflow-x:auto;line-height:normal;font-family:Menlo,'DejaVu Sans Mono',consolas,'Courier New',monospace\"><span style=\"font-weight: bold\"> Non-trainable params: </span><span style=\"color: #00af00; text-decoration-color: #00af00\">0</span> (0.00 B)\n",
       "</pre>\n"
      ],
      "text/plain": [
       "\u001b[1m Non-trainable params: \u001b[0m\u001b[38;5;34m0\u001b[0m (0.00 B)\n"
      ]
     },
     "metadata": {},
     "output_type": "display_data"
    }
   ],
   "source": [
    "model.summary()"
   ]
  },
  {
   "cell_type": "code",
   "execution_count": 10,
   "metadata": {},
   "outputs": [
    {
     "name": "stdout",
     "output_type": "stream",
     "text": [
      "\u001b[1m1/1\u001b[0m \u001b[32m━━━━━━━━━━━━━━━━━━━━\u001b[0m\u001b[37m\u001b[0m \u001b[1m0s\u001b[0m 233ms/step\n"
     ]
    }
   ],
   "source": [
    "vectors = model.predict(embedding_docs)"
   ]
  },
  {
   "cell_type": "code",
   "execution_count": 11,
   "id": "8d2f0985",
   "metadata": {},
   "outputs": [
    {
     "data": {
      "text/plain": [
       "array([[[-0.0330952 , -0.03247159,  0.04913023, -0.03168972,\n",
       "          0.02965895,  0.00499798, -0.02768369, -0.01801264,\n",
       "         -0.03235477, -0.02247069],\n",
       "        [-0.0330952 , -0.03247159,  0.04913023, -0.03168972,\n",
       "          0.02965895,  0.00499798, -0.02768369, -0.01801264,\n",
       "         -0.03235477, -0.02247069],\n",
       "        [-0.0330952 , -0.03247159,  0.04913023, -0.03168972,\n",
       "          0.02965895,  0.00499798, -0.02768369, -0.01801264,\n",
       "         -0.03235477, -0.02247069],\n",
       "        [-0.0330952 , -0.03247159,  0.04913023, -0.03168972,\n",
       "          0.02965895,  0.00499798, -0.02768369, -0.01801264,\n",
       "         -0.03235477, -0.02247069],\n",
       "        [ 0.04073316, -0.0207368 , -0.04677572, -0.01215882,\n",
       "         -0.02694651, -0.01559783, -0.04575827, -0.04821477,\n",
       "         -0.02772802, -0.04363845],\n",
       "        [-0.00073314,  0.02147511,  0.04828468,  0.00499827,\n",
       "         -0.01598476,  0.03324462, -0.03275879,  0.00486909,\n",
       "         -0.03115599,  0.02821312],\n",
       "        [-0.01176032, -0.00856627, -0.04192251, -0.03966094,\n",
       "          0.01751964, -0.00018749,  0.03507543, -0.03562533,\n",
       "         -0.02555237, -0.00576704],\n",
       "        [ 0.02129338, -0.0085994 , -0.04562041,  0.01176568,\n",
       "          0.04597259, -0.00017781, -0.0465118 , -0.00293035,\n",
       "          0.00250175,  0.03140039]],\n",
       "\n",
       "       [[-0.0330952 , -0.03247159,  0.04913023, -0.03168972,\n",
       "          0.02965895,  0.00499798, -0.02768369, -0.01801264,\n",
       "         -0.03235477, -0.02247069],\n",
       "        [-0.0330952 , -0.03247159,  0.04913023, -0.03168972,\n",
       "          0.02965895,  0.00499798, -0.02768369, -0.01801264,\n",
       "         -0.03235477, -0.02247069],\n",
       "        [-0.0330952 , -0.03247159,  0.04913023, -0.03168972,\n",
       "          0.02965895,  0.00499798, -0.02768369, -0.01801264,\n",
       "         -0.03235477, -0.02247069],\n",
       "        [-0.0330952 , -0.03247159,  0.04913023, -0.03168972,\n",
       "          0.02965895,  0.00499798, -0.02768369, -0.01801264,\n",
       "         -0.03235477, -0.02247069],\n",
       "        [ 0.04073316, -0.0207368 , -0.04677572, -0.01215882,\n",
       "         -0.02694651, -0.01559783, -0.04575827, -0.04821477,\n",
       "         -0.02772802, -0.04363845],\n",
       "        [-0.00073314,  0.02147511,  0.04828468,  0.00499827,\n",
       "         -0.01598476,  0.03324462, -0.03275879,  0.00486909,\n",
       "         -0.03115599,  0.02821312],\n",
       "        [-0.01176032, -0.00856627, -0.04192251, -0.03966094,\n",
       "          0.01751964, -0.00018749,  0.03507543, -0.03562533,\n",
       "         -0.02555237, -0.00576704],\n",
       "        [-0.04391263, -0.00147758,  0.04837558, -0.04214746,\n",
       "         -0.02548338,  0.02934123, -0.00502422,  0.0100143 ,\n",
       "         -0.0090515 ,  0.0256396 ]],\n",
       "\n",
       "       [[-0.0330952 , -0.03247159,  0.04913023, -0.03168972,\n",
       "          0.02965895,  0.00499798, -0.02768369, -0.01801264,\n",
       "         -0.03235477, -0.02247069],\n",
       "        [-0.0330952 , -0.03247159,  0.04913023, -0.03168972,\n",
       "          0.02965895,  0.00499798, -0.02768369, -0.01801264,\n",
       "         -0.03235477, -0.02247069],\n",
       "        [-0.0330952 , -0.03247159,  0.04913023, -0.03168972,\n",
       "          0.02965895,  0.00499798, -0.02768369, -0.01801264,\n",
       "         -0.03235477, -0.02247069],\n",
       "        [ 0.04073316, -0.0207368 , -0.04677572, -0.01215882,\n",
       "         -0.02694651, -0.01559783, -0.04575827, -0.04821477,\n",
       "         -0.02772802, -0.04363845],\n",
       "        [-0.00073314,  0.02147511,  0.04828468,  0.00499827,\n",
       "         -0.01598476,  0.03324462, -0.03275879,  0.00486909,\n",
       "         -0.03115599,  0.02821312],\n",
       "        [-0.01176032, -0.00856627, -0.04192251, -0.03966094,\n",
       "          0.01751964, -0.00018749,  0.03507543, -0.03562533,\n",
       "         -0.02555237, -0.00576704],\n",
       "        [ 0.01702634,  0.03960799,  0.04500106,  0.04188542,\n",
       "         -0.02732374, -0.03788322,  0.03038083,  0.02349112,\n",
       "          0.02079889, -0.04460036],\n",
       "        [-0.04391263, -0.00147758,  0.04837558, -0.04214746,\n",
       "         -0.02548338,  0.02934123, -0.00502422,  0.0100143 ,\n",
       "         -0.0090515 ,  0.0256396 ]]], dtype=float32)"
      ]
     },
     "execution_count": 11,
     "metadata": {},
     "output_type": "execute_result"
    }
   ],
   "source": [
    "vectors\n"
   ]
  },
  {
   "cell_type": "code",
   "execution_count": null,
   "metadata": {},
   "outputs": [],
   "source": []
  }
 ],
 "metadata": {
  "kernelspec": {
   "display_name": "base",
   "language": "python",
   "name": "python3"
  },
  "language_info": {
   "codemirror_mode": {
    "name": "ipython",
    "version": 3
   },
   "file_extension": ".py",
   "mimetype": "text/x-python",
   "name": "python",
   "nbconvert_exporter": "python",
   "pygments_lexer": "ipython3",
   "version": "3.12.7"
  }
 },
 "nbformat": 4,
 "nbformat_minor": 5
}
